{
 "cells": [
  {
   "cell_type": "markdown",
   "id": "55ccb7d6-2713-41ac-b265-2e20e3d528dd",
   "metadata": {},
   "source": [
    "## Importing Libraries for Data Cleaning Process"
   ]
  },
  {
   "cell_type": "code",
   "execution_count": 1,
   "id": "4208d830-e7ea-4d19-a02c-f35522801a23",
   "metadata": {},
   "outputs": [],
   "source": [
    "import numpy as np\n",
    "import pandas as pd\n",
    "from sklearn.feature_extraction.text import TfidfVectorizer\n",
    "from sklearn.model_selection import train_test_split\n",
    "from sklearn.neighbors import KNeighborsClassifier\n",
    "from sklearn.metrics import accuracy_score, confusion_matrix\n",
    "from nltk.stem import WordNetLemmatizer\n",
    "from nltk.corpus import stopwords\n",
    "from nltk.tokenize import word_tokenize\n",
    "import re"
   ]
  },
  {
   "cell_type": "markdown",
   "id": "e32f467f-1983-412a-a4fc-8b3140cce18f",
   "metadata": {},
   "source": [
    "## Data Reading"
   ]
  },
  {
   "cell_type": "code",
   "execution_count": 2,
   "id": "b3a4822e-2a9d-43b8-97bb-1106aaaef535",
   "metadata": {},
   "outputs": [],
   "source": [
    "#Read Data\n",
    "data=pd.read_csv(\"website_classification.csv\")"
   ]
  },
  {
   "cell_type": "code",
   "execution_count": 3,
   "id": "4cf0bd6d-e914-4d90-a7b1-f4e0fc2a1c35",
   "metadata": {},
   "outputs": [
    {
     "data": {
      "text/html": [
       "<div>\n",
       "<style scoped>\n",
       "    .dataframe tbody tr th:only-of-type {\n",
       "        vertical-align: middle;\n",
       "    }\n",
       "\n",
       "    .dataframe tbody tr th {\n",
       "        vertical-align: top;\n",
       "    }\n",
       "\n",
       "    .dataframe thead th {\n",
       "        text-align: right;\n",
       "    }\n",
       "</style>\n",
       "<table border=\"1\" class=\"dataframe\">\n",
       "  <thead>\n",
       "    <tr style=\"text-align: right;\">\n",
       "      <th></th>\n",
       "      <th>Unnamed: 0</th>\n",
       "      <th>website_url</th>\n",
       "      <th>cleaned_website_text</th>\n",
       "      <th>Category</th>\n",
       "    </tr>\n",
       "  </thead>\n",
       "  <tbody>\n",
       "    <tr>\n",
       "      <th>0</th>\n",
       "      <td>0</td>\n",
       "      <td>https://www.booking.com/index.html?aid=1743217</td>\n",
       "      <td>official site good hotel accommodation big sav...</td>\n",
       "      <td>Travel</td>\n",
       "    </tr>\n",
       "    <tr>\n",
       "      <th>1</th>\n",
       "      <td>1</td>\n",
       "      <td>https://travelsites.com/expedia/</td>\n",
       "      <td>expedia hotel book sites like use vacation wor...</td>\n",
       "      <td>Travel</td>\n",
       "    </tr>\n",
       "    <tr>\n",
       "      <th>2</th>\n",
       "      <td>2</td>\n",
       "      <td>https://travelsites.com/tripadvisor/</td>\n",
       "      <td>tripadvisor hotel book sites like previously d...</td>\n",
       "      <td>Travel</td>\n",
       "    </tr>\n",
       "    <tr>\n",
       "      <th>3</th>\n",
       "      <td>3</td>\n",
       "      <td>https://www.momondo.in/?ispredir=true</td>\n",
       "      <td>cheap flights search compare flights momondo f...</td>\n",
       "      <td>Travel</td>\n",
       "    </tr>\n",
       "    <tr>\n",
       "      <th>4</th>\n",
       "      <td>4</td>\n",
       "      <td>https://www.ebookers.com/?AFFCID=EBOOKERS-UK.n...</td>\n",
       "      <td>bot create free account create free account si...</td>\n",
       "      <td>Travel</td>\n",
       "    </tr>\n",
       "  </tbody>\n",
       "</table>\n",
       "</div>"
      ],
      "text/plain": [
       "   Unnamed: 0                                        website_url  \\\n",
       "0           0     https://www.booking.com/index.html?aid=1743217   \n",
       "1           1                   https://travelsites.com/expedia/   \n",
       "2           2               https://travelsites.com/tripadvisor/   \n",
       "3           3              https://www.momondo.in/?ispredir=true   \n",
       "4           4  https://www.ebookers.com/?AFFCID=EBOOKERS-UK.n...   \n",
       "\n",
       "                                cleaned_website_text Category  \n",
       "0  official site good hotel accommodation big sav...   Travel  \n",
       "1  expedia hotel book sites like use vacation wor...   Travel  \n",
       "2  tripadvisor hotel book sites like previously d...   Travel  \n",
       "3  cheap flights search compare flights momondo f...   Travel  \n",
       "4  bot create free account create free account si...   Travel  "
      ]
     },
     "execution_count": 3,
     "metadata": {},
     "output_type": "execute_result"
    }
   ],
   "source": [
    "data.head()"
   ]
  },
  {
   "cell_type": "markdown",
   "id": "bc50b5a5-f611-47f5-bda0-a78b15f61ae6",
   "metadata": {},
   "source": [
    "## Data Preprocessing"
   ]
  },
  {
   "cell_type": "code",
   "execution_count": 4,
   "id": "f952dce8-70fa-43de-8e9c-913183cc31da",
   "metadata": {},
   "outputs": [
    {
     "name": "stdout",
     "output_type": "stream",
     "text": [
      "<class 'pandas.core.frame.DataFrame'>\n",
      "RangeIndex: 1408 entries, 0 to 1407\n",
      "Data columns (total 4 columns):\n",
      " #   Column                Non-Null Count  Dtype \n",
      "---  ------                --------------  ----- \n",
      " 0   Unnamed: 0            1408 non-null   int64 \n",
      " 1   website_url           1408 non-null   object\n",
      " 2   cleaned_website_text  1408 non-null   object\n",
      " 3   Category              1408 non-null   object\n",
      "dtypes: int64(1), object(3)\n",
      "memory usage: 44.1+ KB\n"
     ]
    }
   ],
   "source": [
    "## Information about data\n",
    "data.info()"
   ]
  },
  {
   "cell_type": "code",
   "execution_count": 5,
   "id": "ff239d59-671c-4c95-b093-a453d84abb04",
   "metadata": {},
   "outputs": [],
   "source": [
    "## Drooping unvanted column in data\n",
    "data=data.drop([\"Unnamed: 0\",\"website_url\"],axis=1)"
   ]
  },
  {
   "cell_type": "code",
   "execution_count": 6,
   "id": "42ff950f-8456-4685-abeb-f471ab592b22",
   "metadata": {},
   "outputs": [
    {
     "data": {
      "text/html": [
       "<div>\n",
       "<style scoped>\n",
       "    .dataframe tbody tr th:only-of-type {\n",
       "        vertical-align: middle;\n",
       "    }\n",
       "\n",
       "    .dataframe tbody tr th {\n",
       "        vertical-align: top;\n",
       "    }\n",
       "\n",
       "    .dataframe thead th {\n",
       "        text-align: right;\n",
       "    }\n",
       "</style>\n",
       "<table border=\"1\" class=\"dataframe\">\n",
       "  <thead>\n",
       "    <tr style=\"text-align: right;\">\n",
       "      <th></th>\n",
       "      <th>cleaned_website_text</th>\n",
       "      <th>Category</th>\n",
       "    </tr>\n",
       "  </thead>\n",
       "  <tbody>\n",
       "    <tr>\n",
       "      <th>0</th>\n",
       "      <td>official site good hotel accommodation big sav...</td>\n",
       "      <td>Travel</td>\n",
       "    </tr>\n",
       "    <tr>\n",
       "      <th>1</th>\n",
       "      <td>expedia hotel book sites like use vacation wor...</td>\n",
       "      <td>Travel</td>\n",
       "    </tr>\n",
       "    <tr>\n",
       "      <th>2</th>\n",
       "      <td>tripadvisor hotel book sites like previously d...</td>\n",
       "      <td>Travel</td>\n",
       "    </tr>\n",
       "    <tr>\n",
       "      <th>3</th>\n",
       "      <td>cheap flights search compare flights momondo f...</td>\n",
       "      <td>Travel</td>\n",
       "    </tr>\n",
       "    <tr>\n",
       "      <th>4</th>\n",
       "      <td>bot create free account create free account si...</td>\n",
       "      <td>Travel</td>\n",
       "    </tr>\n",
       "  </tbody>\n",
       "</table>\n",
       "</div>"
      ],
      "text/plain": [
       "                                cleaned_website_text Category\n",
       "0  official site good hotel accommodation big sav...   Travel\n",
       "1  expedia hotel book sites like use vacation wor...   Travel\n",
       "2  tripadvisor hotel book sites like previously d...   Travel\n",
       "3  cheap flights search compare flights momondo f...   Travel\n",
       "4  bot create free account create free account si...   Travel"
      ]
     },
     "execution_count": 6,
     "metadata": {},
     "output_type": "execute_result"
    }
   ],
   "source": [
    "data.head()"
   ]
  },
  {
   "cell_type": "code",
   "execution_count": 7,
   "id": "e50ffc7a-3659-4725-b430-692360d1b838",
   "metadata": {},
   "outputs": [],
   "source": [
    "## Remove duplicate values in data\n",
    "data=data.drop_duplicates()"
   ]
  },
  {
   "cell_type": "code",
   "execution_count": 8,
   "id": "454676e7-b1dd-454e-8e45-020d2851eb86",
   "metadata": {},
   "outputs": [],
   "source": [
    "## Set Feature and Target Values \n",
    "feature=data['cleaned_website_text']\n",
    "target=data['Category']"
   ]
  },
  {
   "cell_type": "code",
   "execution_count": 9,
   "id": "faded4b9-80c0-4e20-89d0-fff081dc58a6",
   "metadata": {},
   "outputs": [
    {
     "name": "stdout",
     "output_type": "stream",
     "text": [
      "feature: (1375,)\n",
      "target: (1375,)\n"
     ]
    }
   ],
   "source": [
    "print(\"feature:\", feature.shape)\n",
    "print(\"target:\", target.shape)"
   ]
  },
  {
   "cell_type": "code",
   "execution_count": 10,
   "id": "584c179d-0299-4937-ab32-d759ae799c32",
   "metadata": {},
   "outputs": [],
   "source": [
    "## Cleaning the feature column\n",
    "def cleaning_processing(sentence):\n",
    "    stop_words = set(stopwords.words('english'))\n",
    "    stemmer = WordNetLemmatizer()\n",
    "    cleaned_sentence = []\n",
    "\n",
    "    words = word_tokenize(sentence)  # Split the sentence into words\n",
    "\n",
    "    for word in words:\n",
    "        word = word.lower()  # Convert to lowercase\n",
    "        word = re.sub(r\"[^a-zA-Z]\", \"\", word)  # Remove special characters, numbers, punctuation, HTML tags\n",
    "\n",
    "        if word not in stop_words and word != '':  # Remove empty string and remove stop words\n",
    "            word = stemmer.lemmatize(word)  # Lemmatization\n",
    "            cleaned_sentence.append(word)\n",
    "\n",
    "    filtered_sentence = \" \".join(cleaned_sentence)  # Convert the list of words into a string\n",
    "\n",
    "    return filtered_sentence"
   ]
  },
  {
   "cell_type": "code",
   "execution_count": 11,
   "id": "239862ac-ad7b-4156-95af-4352c927223e",
   "metadata": {},
   "outputs": [],
   "source": [
    "#feature[\"cleaned_website_text\"]=feature.apply(cleaning_processing)\n",
    "feature = feature.apply(cleaning_processing)"
   ]
  },
  {
   "cell_type": "code",
   "execution_count": 12,
   "id": "2a4cda04-fc67-4b0a-a1e3-2d555eecef0d",
   "metadata": {},
   "outputs": [
    {
     "name": "stdout",
     "output_type": "stream",
     "text": [
      "feature: (1375,)\n",
      "target: (1375,)\n"
     ]
    }
   ],
   "source": [
    "print(\"feature:\", feature.shape)\n",
    "print(\"target:\", target.shape)"
   ]
  },
  {
   "cell_type": "markdown",
   "id": "dff8297f-7e2a-4ec5-a022-f5cc0f4da2e5",
   "metadata": {},
   "source": [
    "## Split the data to train & test"
   ]
  },
  {
   "cell_type": "code",
   "execution_count": 13,
   "id": "187fdd13-7d0f-4272-bdfe-2587a9083186",
   "metadata": {},
   "outputs": [],
   "source": [
    "x_train,x_test,y_train,y_test=train_test_split(feature,target,test_size=0.2, random_state=42)"
   ]
  },
  {
   "cell_type": "code",
   "execution_count": 14,
   "id": "2997f123-a5e7-4b89-99d4-4f10540464ed",
   "metadata": {},
   "outputs": [
    {
     "name": "stdout",
     "output_type": "stream",
     "text": [
      "X_train shape: (1100,)\n",
      "X_test shape: (275,)\n",
      "y_train shape: (1100,)\n",
      "y_test shape: (275,)\n"
     ]
    }
   ],
   "source": [
    "print(\"X_train shape:\", x_train.shape)\n",
    "print(\"X_test shape:\", x_test.shape)\n",
    "print(\"y_train shape:\", y_train.shape)\n",
    "print(\"y_test shape:\", y_test.shape)"
   ]
  },
  {
   "cell_type": "markdown",
   "id": "b175b7f9-eaac-44bf-b113-5dba7a58961a",
   "metadata": {},
   "source": [
    "## Transform the feature into vector using Bag of Words"
   ]
  },
  {
   "cell_type": "code",
   "execution_count": 15,
   "id": "ce74eff3-a45a-4476-90c1-097e616e018d",
   "metadata": {},
   "outputs": [],
   "source": [
    "vectorizer = TfidfVectorizer(binary=True)\n",
    "x_train_tfidf = vectorizer.fit_transform(x_train)\n",
    "x_test_tfidf = vectorizer.transform(x_test)"
   ]
  },
  {
   "cell_type": "code",
   "execution_count": 16,
   "id": "a0056a9d-a6e9-4283-a465-6b0316f6e427",
   "metadata": {},
   "outputs": [
    {
     "name": "stdout",
     "output_type": "stream",
     "text": [
      "X_train shape: (1100, 46150)\n",
      "X_test shape: (275, 46150)\n",
      "y_train shape: (1100,)\n",
      "y_test shape: (275,)\n"
     ]
    }
   ],
   "source": [
    "print(\"X_train shape:\", x_train_tfidf.shape)\n",
    "print(\"X_test shape:\", x_test_tfidf.shape)\n",
    "print(\"y_train shape:\", y_train.shape)\n",
    "print(\"y_test shape:\", y_test.shape)"
   ]
  },
  {
   "cell_type": "markdown",
   "id": "65b6b126-095d-429a-97c3-a909a76f73ec",
   "metadata": {},
   "source": [
    "## Importing the model library to perform classification"
   ]
  },
  {
   "cell_type": "code",
   "execution_count": 17,
   "id": "6a9cbbfc-78cd-4702-ac82-6e2dd3b75746",
   "metadata": {},
   "outputs": [],
   "source": [
    "from sklearn.metrics import accuracy_score,confusion_matrix\n",
    "from sklearn.neighbors import KNeighborsClassifier\n",
    "from sklearn.tree import DecisionTreeClassifier\n",
    "from sklearn.naive_bayes import MultinomialNB\n",
    "from sklearn.svm import SVC"
   ]
  },
  {
   "cell_type": "markdown",
   "id": "c7bb9b29-d1e7-478e-af00-ae482220f9f0",
   "metadata": {},
   "source": [
    "###  KNeighborsClassifier()"
   ]
  },
  {
   "cell_type": "code",
   "execution_count": 18,
   "id": "42aab0de-39b5-4dbb-82d3-81858b8af2fa",
   "metadata": {},
   "outputs": [],
   "source": [
    "classifier1=KNeighborsClassifier(n_neighbors=3)\n",
    "classifier1.fit(x_train_tfidf,y_train)\n",
    "predict1=classifier1.predict(x_test_tfidf)\n",
    "accuracy1 = accuracy_score(y_test, predict1)"
   ]
  },
  {
   "cell_type": "markdown",
   "id": "51e342ed-7293-4d01-9678-ef874fd10d4d",
   "metadata": {},
   "source": [
    "###  DecisionTreeClassifier()"
   ]
  },
  {
   "cell_type": "code",
   "execution_count": 19,
   "id": "d1844e02-2479-460d-aea7-69085d4126c1",
   "metadata": {},
   "outputs": [],
   "source": [
    "classifier2=DecisionTreeClassifier()\n",
    "classifier2.fit(x_train_tfidf,y_train)\n",
    "predict2=classifier2.predict(x_test_tfidf)\n",
    "accuracy2 = accuracy_score(y_test, predict2)"
   ]
  },
  {
   "cell_type": "markdown",
   "id": "5da43194-a17f-40a1-b14f-b0403801bd46",
   "metadata": {},
   "source": [
    "###  MultinomialNB()"
   ]
  },
  {
   "cell_type": "code",
   "execution_count": 20,
   "id": "4952b7d7-bf36-4601-9754-4675cd0e914e",
   "metadata": {},
   "outputs": [],
   "source": [
    "classifier3=MultinomialNB()\n",
    "classifier3.fit(x_train_tfidf,y_train)\n",
    "predict3=classifier3.predict(x_test_tfidf)\n",
    "accuracy3 = accuracy_score(y_test, predict3)"
   ]
  },
  {
   "cell_type": "markdown",
   "id": "84aeca46-7f28-49d1-820a-25862e4d0ee5",
   "metadata": {},
   "source": [
    "###  SVC()"
   ]
  },
  {
   "cell_type": "code",
   "execution_count": 21,
   "id": "70934d0e-c659-4105-9cd6-25ec70d81e21",
   "metadata": {},
   "outputs": [],
   "source": [
    "classifier4=SVC()\n",
    "classifier4.fit(x_train_tfidf,y_train)\n",
    "predict4=classifier4.predict(x_test_tfidf)\n",
    "accuracy4 = accuracy_score(y_test, predict4)"
   ]
  },
  {
   "cell_type": "markdown",
   "id": "c30a8178-119c-483c-bd5b-637dd68e4e08",
   "metadata": {},
   "source": [
    "## Accuracy score"
   ]
  },
  {
   "cell_type": "code",
   "execution_count": 22,
   "id": "a855b9e8-0ef6-4000-8024-6dd644128558",
   "metadata": {},
   "outputs": [
    {
     "name": "stdout",
     "output_type": "stream",
     "text": [
      "KNeighborsClassifier accuracy score:  0.8072727272727273\n",
      "DecisionTreeClassifier accuracy score:  0.5709090909090909\n",
      "MultinomialNB accuracy score:  0.7818181818181819\n",
      "SVC accuracy score:  0.8545454545454545\n"
     ]
    }
   ],
   "source": [
    "print(\"KNeighborsClassifier accuracy score: \",accuracy1)\n",
    "print(\"DecisionTreeClassifier accuracy score: \",accuracy2)\n",
    "print(\"MultinomialNB accuracy score: \",accuracy3)\n",
    "print(\"SVC accuracy score: \",accuracy4)"
   ]
  },
  {
   "cell_type": "markdown",
   "id": "21482198-8a5e-42a2-980f-d8c5cbc55090",
   "metadata": {},
   "source": [
    "##  Confusion_matrix"
   ]
  },
  {
   "cell_type": "code",
   "execution_count": 23,
   "id": "b4603662-64ae-4380-a994-957567f6fb3c",
   "metadata": {},
   "outputs": [
    {
     "name": "stdout",
     "output_type": "stream",
     "text": [
      "KNeighborsClassifier\n",
      "KNeighborsClassifier accuracy score:  0.8072727272727273\n",
      "[[ 3  0  1  0  0  0  0  0  0  0  0  1  0  0  0  0]\n",
      " [ 0 13  1  3  1  0  0  0  0  0  0  0  0  0  0  1]\n",
      " [ 0  3  7  1  2  0  0  0  0  0  0  0  0  0  0  0]\n",
      " [ 0  2  0 22  0  1  0  1  0  0  0  0  0  0  0  0]\n",
      " [ 0  3  4  0 14  0  0  0  0  0  0  0  0  0  0  0]\n",
      " [ 0  0  0  0  0 26  0  0  0  0  0  0  0  0  0  0]\n",
      " [ 0  0  0  0  1  0  0  0  0  0  0  1  0  0  1  0]\n",
      " [ 0  0  1  0  2  0  0 12  0  0  0  0  0  0  1  1]\n",
      " [ 0  0  0  0  2  0  0  0 13  0  0  0  0  0  0  0]\n",
      " [ 0  0  0  0  1  0  0  0  0 21  0  0  1  0  1  0]\n",
      " [ 0  0  0  0  0  0  0  0  0  1 16  0  1  1  0  0]\n",
      " [ 0  0  0  0  0  0  0  0  0  1  1 14  0  0  0  0]\n",
      " [ 0  0  1  0  0  1  1  0  0  0  0  0  8  0  1  0]\n",
      " [ 0  0  0  0  1  0  0  0  0  0  0  0  0 20  1  0]\n",
      " [ 0  0  1  0  0  0  0  0  0  0  0  0  0  0 15  0]\n",
      " [ 0  0  0  1  0  0  0  0  0  0  1  0  1  0  0 18]]\n"
     ]
    }
   ],
   "source": [
    "print(\"KNeighborsClassifier\")\n",
    "print(\"KNeighborsClassifier accuracy score: \",accuracy1)\n",
    "print(confusion_matrix(y_test, predict1))"
   ]
  },
  {
   "cell_type": "code",
   "execution_count": 24,
   "id": "4ba0a9eb-81a6-4679-ab76-697e7f18f20c",
   "metadata": {},
   "outputs": [
    {
     "name": "stdout",
     "output_type": "stream",
     "text": [
      "DecisionTreeClassifier\n",
      "DecisionTreeClassifier accuracy score:  0.5709090909090909\n",
      "[[ 0  0  0  0  0  0  0  1  0  0  1  1  0  0  1  1]\n",
      " [ 0  8  1  2  1  2  0  0  1  3  0  0  1  0  0  0]\n",
      " [ 0  1  6  0  0  1  0  4  0  0  0  0  0  0  1  0]\n",
      " [ 0  1  1 17  1  1  0  1  1  0  1  1  0  0  0  1]\n",
      " [ 0  0  2  1 12  0  0  0  0  1  2  0  0  0  2  1]\n",
      " [ 0  1  0  4  0 15  1  2  0  0  0  2  1  0  0  0]\n",
      " [ 0  0  0  0  1  0  0  0  0  0  0  1  0  0  1  0]\n",
      " [ 1  0  0  0  0  1  0 13  0  0  1  0  0  1  0  0]\n",
      " [ 0  1  0  0  2  2  0  0  7  2  1  0  0  0  0  0]\n",
      " [ 0  2  1  2  2  0  0  0  1 16  0  0  0  0  0  0]\n",
      " [ 0  1  0  1  2  1  1  1  0  0  9  0  0  1  1  1]\n",
      " [ 0  0  0  1  0  1  0  0  0  0  0 12  0  0  2  0]\n",
      " [ 0  0  2  0  0  0  1  3  0  0  0  0  6  0  0  0]\n",
      " [ 0  0  0  0  0  3  0  3  0  1  1  0  0 14  0  0]\n",
      " [ 0  0  0  0  1  1  0  1  0  0  0  0  2  1 10  0]\n",
      " [ 0  1  0  0  1  4  0  1  0  0  2  0  0  0  0 12]]\n"
     ]
    }
   ],
   "source": [
    "print(\"DecisionTreeClassifier\")\n",
    "print(\"DecisionTreeClassifier accuracy score: \",accuracy2)\n",
    "print(confusion_matrix(y_test, predict2))"
   ]
  },
  {
   "cell_type": "code",
   "execution_count": 25,
   "id": "216e1bf2-1932-4194-bf90-6399818052bf",
   "metadata": {},
   "outputs": [
    {
     "name": "stdout",
     "output_type": "stream",
     "text": [
      "MultinomialNB\n",
      "MultinomialNB accuracy score:  0.7818181818181819\n",
      "[[ 0  0  0  0  0  0  0  0  0  0  4  1  0  0  0  0]\n",
      " [ 0 15  0  1  2  0  0  0  0  0  0  0  0  0  0  1]\n",
      " [ 0  3  6  0  4  0  0  0  0  0  0  0  0  0  0  0]\n",
      " [ 0  2  0 20  1  2  0  0  0  0  0  0  0  0  0  1]\n",
      " [ 0  1  0  0 20  0  0  0  0  0  0  0  0  0  0  0]\n",
      " [ 0  0  0  1  0 22  0  0  0  0  0  0  0  0  0  3]\n",
      " [ 0  1  0  0  1  0  0  0  0  0  0  0  0  0  1  0]\n",
      " [ 0  0  0  0  5  0  0  8  0  0  2  0  0  0  0  2]\n",
      " [ 0  0  0  0  2  0  0  0 13  0  0  0  0  0  0  0]\n",
      " [ 0  0  0  0  1  0  0  0  0 21  1  0  0  0  1  0]\n",
      " [ 0  0  0  0  1  0  0  0  0  0 17  0  0  1  0  0]\n",
      " [ 0  1  0  0  0  0  0  0  0  0  1 12  0  0  1  1]\n",
      " [ 0  2  0  0  0  1  0  0  0  0  0  0  7  0  2  0]\n",
      " [ 0  0  0  0  1  0  0  0  0  0  0  0  0 20  1  0]\n",
      " [ 0  0  1  0  0  0  0  0  0  0  1  0  0  0 14  0]\n",
      " [ 0  0  0  0  0  0  0  0  0  0  1  0  0  0  0 20]]\n"
     ]
    }
   ],
   "source": [
    "print(\"MultinomialNB\")\n",
    "print(\"MultinomialNB accuracy score: \",accuracy3)\n",
    "print(confusion_matrix(y_test, predict3))"
   ]
  },
  {
   "cell_type": "code",
   "execution_count": 26,
   "id": "b4b5d439-7283-49f1-93f6-381de9338409",
   "metadata": {},
   "outputs": [
    {
     "name": "stdout",
     "output_type": "stream",
     "text": [
      "SVC\n",
      "SVC accuracy score:  0.8545454545454545\n",
      "[[ 0  0  0  0  0  0  0  5  0  0  0  0  0  0  0  0]\n",
      " [ 0 17  0  1  0  0  0  1  0  0  0  0  0  0  0  0]\n",
      " [ 0  1 10  0  1  0  0  1  0  0  0  0  0  0  0  0]\n",
      " [ 0  2  0 21  0  2  0  1  0  0  0  0  0  0  0  0]\n",
      " [ 0  1  0  0 20  0  0  0  0  0  0  0  0  0  0  0]\n",
      " [ 0  1  0  1  0 23  0  1  0  0  0  0  0  0  0  0]\n",
      " [ 0  1  0  0  1  0  0  0  0  0  0  0  0  0  1  0]\n",
      " [ 0  0  0  0  1  0  0 16  0  0  0  0  0  0  0  0]\n",
      " [ 0  0  0  0  1  0  0  0 14  0  0  0  0  0  0  0]\n",
      " [ 0  0  1  0  1  0  0  0  0 22  0  0  0  0  0  0]\n",
      " [ 0  0  0  0  1  0  0  1  0  0 16  0  0  1  0  0]\n",
      " [ 0  0  1  0  0  0  0  0  0  0  1 14  0  0  0  0]\n",
      " [ 0  2  1  0  0  0  0  1  0  0  0  0  8  0  0  0]\n",
      " [ 0  1  1  0  0  0  0  0  0  0  0  0  0 20  0  0]\n",
      " [ 0  0  1  0  0  0  0  0  0  0  1  0  0  0 14  0]\n",
      " [ 0  0  0  0  0  0  0  0  0  0  1  0  0  0  0 20]]\n"
     ]
    }
   ],
   "source": [
    "print(\"SVC\")\n",
    "print(\"SVC accuracy score: \",accuracy4)\n",
    "print(confusion_matrix(y_test, predict4))"
   ]
  },
  {
   "cell_type": "markdown",
   "id": "a30c77b5-a9d0-41d7-a09c-50399656d568",
   "metadata": {},
   "source": [
    "##  MultinomialNB model have high accuracy compared to other models, so selecting MultinomialNB is the best choice for this classification problem."
   ]
  }
 ],
 "metadata": {
  "kernelspec": {
   "display_name": "Python 3 (ipykernel)",
   "language": "python",
   "name": "python3"
  },
  "language_info": {
   "codemirror_mode": {
    "name": "ipython",
    "version": 3
   },
   "file_extension": ".py",
   "mimetype": "text/x-python",
   "name": "python",
   "nbconvert_exporter": "python",
   "pygments_lexer": "ipython3",
   "version": "3.10.12"
  }
 },
 "nbformat": 4,
 "nbformat_minor": 5
}
